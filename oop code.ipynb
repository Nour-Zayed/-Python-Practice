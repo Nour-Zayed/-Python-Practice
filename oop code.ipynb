{
 "cells": [
  {
   "cell_type": "code",
   "execution_count": 11,
   "id": "d334828b-de32-4e5e-8147-069ef88a6967",
   "metadata": {},
   "outputs": [
    {
     "name": "stdout",
     "output_type": "stream",
     "text": [
      "<class 'bool'>\n",
      "<class 'int'>\n",
      "<class 'str'>\n",
      "<class 'tuple'>\n",
      "NOUR\n"
     ]
    }
   ],
   "source": [
    "x= True\n",
    "print(type (x))\n",
    "y=4\n",
    "print(type (y))\n",
    "z=\"nour\"\n",
    "print(type (z))\n",
    "a=(1,2,3)\n",
    "print(type (a))\n",
    "print(z.upper())"
   ]
  },
  {
   "cell_type": "code",
   "execution_count": 27,
   "id": "d0f5b541-435a-4c47-96ee-22015b4c4926",
   "metadata": {},
   "outputs": [
    {
     "name": "stdout",
     "output_type": "stream",
     "text": [
      "Nour 21\n",
      "Ali 45\n",
      "<__main__.Student object at 0x00000195582DB710> <__main__.Student object at 0x0000019558346FD0>\n",
      "my name is Ali and mny age is 45\n"
     ]
    }
   ],
   "source": [
    "class Student:\n",
    "    #class attribute \n",
    "    number_of_stud=0\n",
    "\n",
    "    #instance attribte \n",
    "    def __init__(self,name,age=0,cources='none'):\n",
    "        #self =>referance object\n",
    "        self.name=name\n",
    "        self.age=age\n",
    "        self.cources=cources\n",
    "        Student.number_of_stud +=1\n",
    "\n",
    "    def describe(self):\n",
    "        print(f\"my name is {self.name} and mny age is {self.age}\")\n",
    "student_1=Student (\"Nour\",21,[\"python\",\"Ai\"])  \n",
    "student_2=Student (\"Nour\",21,[\"python\",\"Ai\"]) \n",
    "print(student_1.name,student_1.age)\n",
    "\n",
    "\n",
    "student_1.name=\"Ali\"\n",
    "student_1.age=45\n",
    "\n",
    "print(student_1.name,student_1.age)\n",
    "print(student_1,student_2)\n",
    "\n",
    "student_1.describe()                "
   ]
  },
  {
   "cell_type": "code",
   "execution_count": 45,
   "id": "59110e99-3ac6-48e3-9e3b-fc07c439eeff",
   "metadata": {},
   "outputs": [
    {
     "name": "stdout",
     "output_type": "stream",
     "text": [
      "student id not old\n"
     ]
    }
   ],
   "source": [
    "class Student:\n",
    "      def __init__(self,name,age=0,cources='none'):\n",
    "          self.name=name\n",
    "          self.age=age\n",
    "          self.cources=cources\n",
    "\n",
    "    \n",
    "      def is_old(self,num):\n",
    "        if self.age <= num :\n",
    "            print(\"student is old\")\n",
    "        else:\n",
    "            print(\"student id not old\")\n",
    "\n",
    "student_1=Student (\"Nour\",21,[\"python\",\"Ai\"])  \n",
    "student_2=Student (\"Nour\",21,[\"python\",\"Ai\"]) \n",
    "student_1.is_old(12)"
   ]
  },
  {
   "cell_type": "code",
   "execution_count": 41,
   "id": "7da87fbd-30c4-4cee-8efe-be1216d42b69",
   "metadata": {},
   "outputs": [
    {
     "name": "stdout",
     "output_type": "stream",
     "text": [
      "Nour\n",
      "Ali\n"
     ]
    }
   ],
   "source": [
    "class Student:\n",
    "      def __init__(self,name,age=0,cources='none'):\n",
    "          self.name=name\n",
    "          self.age=age\n",
    "          self.cources=cources\n",
    "      def get_name(self):\n",
    "          return self.name\n",
    "      def set_name(self,new_name):\n",
    "          self.name=new_name\n",
    "student_1=Student (\"Nour\",21,[\"python\",\"Ai\"])  \n",
    "print(student_1.get_name()) \n",
    "student_1.set_name(\"Ali\")\n",
    "print(student_1.get_name()) \n"
   ]
  },
  {
   "cell_type": "code",
   "execution_count": 44,
   "id": "731c8603-20ad-4f9a-b78e-a3d71f977b9a",
   "metadata": {},
   "outputs": [
    {
     "name": "stdout",
     "output_type": "stream",
     "text": [
      "Nour\n",
      "Nour\n",
      "Ali\n",
      "fifth\n"
     ]
    }
   ],
   "source": [
    "class Student:\n",
    "      def __init__(self,name,age=0,cources='none'):\n",
    "          self.__name=name\n",
    "          self.__age=age\n",
    "          self.__cources=cources\n",
    "      def get_name(self):\n",
    "          return self.__name\n",
    "      def set_name(self,new_name):\n",
    "          self.__name=new_name\n",
    "student_1=Student (\"Nour\",21,[\"python\",\"Ai\"])\n",
    "#name become private '__' dont change still Nour\n",
    "\n",
    "print(student_1.get_name()) \n",
    "student_1.name=\"mohamed\"\n",
    "print(student_1.get_name()) \n",
    "student_1.set_name(\"Ali\")\n",
    "print(student_1.get_name()) \n",
    "#you can add new attribute \n",
    "student_1.grade ='fifth'\n",
    "print(student_1.grade)\n",
    "\n"
   ]
  },
  {
   "cell_type": "code",
   "execution_count": 53,
   "id": "44d18f0e-2859-4764-ab50-8cafe796e240",
   "metadata": {},
   "outputs": [
    {
     "name": "stdout",
     "output_type": "stream",
     "text": [
      "my name is Ali and mny age is 31\n"
     ]
    }
   ],
   "source": [
    "from datetime import date\n",
    "\n",
    "class Student:\n",
    "      def __init__(self,name,age=0):\n",
    "          self.name=name\n",
    "          self.age=age\n",
    "\n",
    "      def describe(self):\n",
    "           print(f\"my name is {self.name} and mny age is {self.age}\")\n",
    "          \n",
    "      @classmethod\n",
    "      def initFormBirthYour(cls,name,birthYear):\n",
    "          return cls (name,date.today().year - birthYear)\n",
    "student1=Student (\"Nour\",21)\n",
    "student2=Student.initFormBirthYour(\"Ali\",1993)\n",
    "student2.describe()  "
   ]
  },
  {
   "cell_type": "code",
   "execution_count": 73,
   "id": "23af0f6c-8525-45b8-804b-cdd920ba7ce2",
   "metadata": {},
   "outputs": [
    {
     "name": "stdout",
     "output_type": "stream",
     "text": [
      "pizza ingredients are ['mushrooms', 'oliver', 'onions']  pizza ingredients are ['motzarela', 'saode'] \n",
      "['__class__', '__delattr__', '__dict__', '__dir__', '__doc__', '__eq__', '__format__', '__ge__', '__getattribute__', '__getstate__', '__gt__', '__hash__', '__init__', '__init_subclass__', '__le__', '__lt__', '__module__', '__ne__', '__new__', '__reduce__', '__reduce_ex__', '__repr__', '__setattr__', '__sizeof__', '__str__', '__subclasshook__', '__weakref__', 'marghreta', 'veg']\n"
     ]
    }
   ],
   "source": [
    "class Pizza:\n",
    "    def __init__(self,ingredients):\n",
    "        self.ingredients = ingredients\n",
    "    @classmethod\n",
    "    def veg(cls):\n",
    "        return cls(['mushrooms','oliver','onions'])\n",
    "    @classmethod    \n",
    "    def marghreta(cls):\n",
    "        return cls(['motzarela','saode']) \n",
    "\n",
    "    def __str__(self):\n",
    "        return f\"pizza ingredients are {self.ingredients} \"\n",
    "\n",
    "    \n",
    "pizza1=Pizza(['tomatoes','olives'])\n",
    "pizza2=Pizza.veg()\n",
    "pizza3=Pizza.marghreta()\n",
    "print(pizza2,pizza3)\n",
    "print(dir(Pizza))"
   ]
  },
  {
   "cell_type": "code",
   "execution_count": null,
   "id": "b6597367-91a1-465b-abc2-2c8c12cd1275",
   "metadata": {},
   "outputs": [],
   "source": []
  },
  {
   "cell_type": "code",
   "execution_count": 105,
   "id": "af627670-8c54-4030-bb3b-35b7ac16bf20",
   "metadata": {},
   "outputs": [
    {
     "name": "stdout",
     "output_type": "stream",
     "text": [
      "15 20 30\n"
     ]
    }
   ],
   "source": [
    "class Math:    \n",
    "\n",
    "   @staticmethod\n",
    "   def add(x,y):\n",
    "       return x+y\n",
    "   @staticmethod\n",
    "   def add5(num):\n",
    "        return num + 5\n",
    "   @staticmethod\n",
    "   def add10(num):\n",
    "       return num + 10\n",
    "   @staticmethod \n",
    "   def PI():\n",
    "       return 3.14\n",
    "\n",
    "x=Math.add(5,10)\n",
    "y=Math.add5(x)\n",
    "z=Math.add10(y)\n",
    "print(x,y,z)\n",
    "\n",
    "\n",
    "\n"
   ]
  },
  {
   "cell_type": "code",
   "execution_count": 104,
   "id": "4f29f203-5480-4c41-8643-5ce0ead7980f",
   "metadata": {},
   "outputs": [
    {
     "name": "stdout",
     "output_type": "stream",
     "text": [
      "113.09733552923255\n",
      "314.1592653589793\n"
     ]
    }
   ],
   "source": [
    "class Pizza:\n",
    "    def __init__(self, radius, ingredients):\n",
    "        self.radius = radius  \n",
    "        self.ingredients = ingredients\n",
    "    \n",
    "    def area(self):\n",
    "        return Pizza.circle_area(self.radius)  \n",
    "    \n",
    "    @staticmethod\n",
    "    def circle_area(r):\n",
    "        import math\n",
    "        return math.pi * (r ** 2) \n",
    "\n",
    "p = Pizza(6, ['mozzarella', 'tomatoes'])\n",
    "print(p.area())  \n",
    "print(Pizza.circle_area(10)) "
   ]
  },
  {
   "cell_type": "code",
   "execution_count": 109,
   "id": "ae826661-bc49-464c-baaa-f1dcc4bad665",
   "metadata": {},
   "outputs": [
    {
     "name": "stdout",
     "output_type": "stream",
     "text": [
      "Equel\n"
     ]
    }
   ],
   "source": [
    "class Dates:\n",
    "    def __init__(self,date):\n",
    "        self.__date=date\n",
    "    def getDate(self):\n",
    "        return self .__date\n",
    "    @staticmethod\n",
    "    def toDashDate(date):\n",
    "        return date.replace(\"/\",\"-\")\\\n",
    "\n",
    "date=Dates(\"15-12-2016\")\n",
    "dataFromdb =\"15/12/2016\"\n",
    "dateWithDash = Dates.toDashDate(dataFromdb)\n",
    "\n",
    "if (date.getDate() == dateWithDash ):\n",
    "    print(\"Equel\")\n",
    "else:\n",
    "    print(\" not Equel\")"
   ]
  },
  {
   "cell_type": "code",
   "execution_count": 136,
   "id": "ca0ec85f-60e2-4a03-b2e6-8568b9912d80",
   "metadata": {},
   "outputs": [
    {
     "name": "stdout",
     "output_type": "stream",
     "text": [
      "name is Ali and age is 25 and voice is hard and gender is Male  \n",
      "1\n",
      "name is Ali and age is 34 and voice is hard and gender is Male  \n",
      "name is Nour and age is 22 and hair is curly and gender is Female  \n",
      "1\n",
      "True\n"
     ]
    }
   ],
   "source": [
    "from datetime import date\n",
    "class Person:\n",
    "    def __init__(self,name,age):\n",
    "        self.name=name\n",
    "        self.age=age\n",
    "    def display(self):\n",
    "        return f\"name is {self.name} and age is {self.age} \"\n",
    "\n",
    "    @classmethod\n",
    "    def initFormBirthYear(cls,name,birthYear,extra):\n",
    "          return cls (name,date.today().year - birthYear,extra)\n",
    "\n",
    "class Man(Person):\n",
    "    gender = \"Male\"\n",
    "    num_of_men = 0\n",
    "    def __init__(self,name,age,voice):\n",
    "        super().__init__(name,age)\n",
    "        self.voice=voice\n",
    "        Man.num_of_men +=1\n",
    "    def display(self):\n",
    "         string = super().display()\n",
    "         return string + f\"and voice is {self.voice} and gender is {self.gender}  \"\n",
    "man=Man(\"Ali\" ,25,\"hard\")\n",
    "print(man.display())\n",
    "print(man.num_of_men)\n",
    "\n",
    "class Woman(Person):\n",
    "    gender = \"Female\"\n",
    "    num_of_woman = 0\n",
    "    def __init__(self,name,age,hair):\n",
    "        super().__init__(name,age)\n",
    "        self.hair=hair\n",
    "        Woman.num_of_woman +=1\n",
    "    def display(self):\n",
    "         string = super().display()\n",
    "         return string + f\"and hair is {self.hair} and gender is {self.gender}  \"\n",
    "\n",
    "\n",
    "man =Man.initFormBirthYear ('Ali',1990,\"hard\")\n",
    "print(man.display())\n",
    "\n",
    "woman=Woman(\"Nour\" ,22,\"curly\")\n",
    "print(woman.display())\n",
    "print(woman.num_of_woman)\n",
    "\n",
    "print(isinstance(woman,Woman))"
   ]
  },
  {
   "cell_type": "code",
   "execution_count": 155,
   "id": "66a1c819-abd3-41a8-98d3-7b4bbaa67510",
   "metadata": {},
   "outputs": [
    {
     "name": "stdout",
     "output_type": "stream",
     "text": [
      "Sqaure area is 100 and perimerter is 40 \n",
      "recting area is 15 an preimeter is  16 \n"
     ]
    }
   ],
   "source": [
    "from abc import ABC ,abstractmethod\n",
    "\n",
    "class Shape (ABC):\n",
    "    @abstractmethod\n",
    "    def area(self):\n",
    "        pass\n",
    "    @abstractmethod\n",
    "    def Perimeter(self):\n",
    "        pass\n",
    "\n",
    "class Sqaure (Shape):\n",
    "    def __init__(self,side):\n",
    "        self.__side = side\n",
    "\n",
    "    def area(self):\n",
    "        return self.__side * self.__side\n",
    "    def Perimeter(self):\n",
    "        return self.__side * 4\n",
    "class Rect(Shape):\n",
    "    def __init__(self,length,width):\n",
    "        self.__length =length\n",
    "        self.__width =width\n",
    "    def area(self):\n",
    "        return self.__length *  self.__width\n",
    "    def Perimeter(self):\n",
    "        return (self.__length + self.__width ) * 2\n",
    "        \n",
    "square = Sqaure(10)\n",
    "print(f\"Sqaure area is {square.area()} and perimerter is {square.Perimeter()} \")\n",
    "\n",
    "rect =Rect(5,3)\n",
    "print(f\"recting area is {rect.area()} an preimeter is  {rect.Perimeter()} \")"
   ]
  },
  {
   "cell_type": "code",
   "execution_count": null,
   "id": "e272e2f7-d9d2-490b-b4ac-f3481fe5d337",
   "metadata": {},
   "outputs": [],
   "source": []
  },
  {
   "cell_type": "code",
   "execution_count": 161,
   "id": "c36305df-250c-4f60-b586-870ae456a485",
   "metadata": {},
   "outputs": [
    {
     "name": "stdout",
     "output_type": "stream",
     "text": [
      "names combined are Ali and Ahmed and sum of ages is  55 \n",
      "True\n",
      "['__add__', '__class__', '__delattr__', '__dict__', '__dir__', '__doc__', '__eq__', '__format__', '__ge__', '__getattribute__', '__getstate__', '__gt__', '__hash__', '__init__', '__init_subclass__', '__le__', '__lt__', '__module__', '__ne__', '__new__', '__reduce__', '__reduce_ex__', '__repr__', '__setattr__', '__sizeof__', '__str__', '__subclasshook__', '__weakref__', 'display']\n"
     ]
    }
   ],
   "source": [
    "class Man():\n",
    "    def __init__(self,name,age):\n",
    "        self.name = name\n",
    "        self.age = age\n",
    "\n",
    "    def __add__(self,other):\n",
    "        names =self.name + \" and \" + other.name\n",
    "        ages =self.age + other.age\n",
    "        return f\"names combined are { names } and sum of ages is  {ages} \"\n",
    "\n",
    "    def __lt__(self,other):\n",
    "        return self.age < other.age\n",
    "\n",
    "\n",
    "\n",
    "    \n",
    "    def display(self):\n",
    "        return  f\"name is {self.name} and age is {self.age} \"\n",
    "\n",
    "man =Man (\"Ali\",25)\n",
    "man2=Man (\"Ahmed\",30)\n",
    "print(man+man2)\n",
    "print(man<man2)\n",
    "print(dir(Man))"
   ]
  },
  {
   "cell_type": "code",
   "execution_count": null,
   "id": "8cfaf2b7-ed39-4aa3-aa57-c3e73e5ccad4",
   "metadata": {},
   "outputs": [],
   "source": []
  }
 ],
 "metadata": {
  "kernelspec": {
   "display_name": "Python 3 (ipykernel)",
   "language": "python",
   "name": "python3"
  },
  "language_info": {
   "codemirror_mode": {
    "name": "ipython",
    "version": 3
   },
   "file_extension": ".py",
   "mimetype": "text/x-python",
   "name": "python",
   "nbconvert_exporter": "python",
   "pygments_lexer": "ipython3",
   "version": "3.11.5"
  }
 },
 "nbformat": 4,
 "nbformat_minor": 5
}
