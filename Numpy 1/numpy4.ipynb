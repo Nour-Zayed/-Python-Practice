{
 "cells": [
  {
   "cell_type": "markdown",
   "metadata": {},
   "source": [
    "## Inspect an Array "
   ]
  },
  {
   "cell_type": "code",
   "execution_count": 1,
   "metadata": {},
   "outputs": [],
   "source": [
    "import numpy as np "
   ]
  },
  {
   "cell_type": "code",
   "execution_count": 2,
   "metadata": {},
   "outputs": [
    {
     "data": {
      "text/plain": [
       "array([[1, 2, 3],\n",
       "       [4, 5, 6]], dtype=int64)"
      ]
     },
     "execution_count": 2,
     "metadata": {},
     "output_type": "execute_result"
    }
   ],
   "source": [
    "arr = np.array([[1,2,3],[4,5,6]] ,dtype=np.int64 )\n",
    "arr "
   ]
  },
  {
   "cell_type": "markdown",
   "metadata": {},
   "source": [
    "### inspect general information of an array"
   ]
  },
  {
   "cell_type": "code",
   "execution_count": 3,
   "metadata": {},
   "outputs": [
    {
     "name": "stdout",
     "output_type": "stream",
     "text": [
      "class:  ndarray\n",
      "shape:  (2, 3)\n",
      "strides:  (24, 8)\n",
      "itemsize:  8\n",
      "aligned:  True\n",
      "contiguous:  True\n",
      "fortran:  False\n",
      "data pointer: 0x21d64af70f0\n",
      "byteorder:  little\n",
      "byteswap:  False\n",
      "type: int64\n"
     ]
    }
   ],
   "source": [
    "np.info(arr)"
   ]
  },
  {
   "cell_type": "code",
   "execution_count": null,
   "metadata": {},
   "outputs": [
    {
     "data": {
      "text/plain": [
       "dtype('int64')"
      ]
     },
     "execution_count": 4,
     "metadata": {},
     "output_type": "execute_result"
    }
   ],
   "source": [
    "### inspect the data type of an array\n",
    "arr.dtype"
   ]
  },
  {
   "cell_type": "code",
   "execution_count": 5,
   "metadata": {},
   "outputs": [
    {
     "data": {
      "text/plain": [
       "(2, 3)"
      ]
     },
     "execution_count": 5,
     "metadata": {},
     "output_type": "execute_result"
    }
   ],
   "source": [
    "## inspect the dimension of an array\n",
    "arr.shape"
   ]
  },
  {
   "cell_type": "code",
   "execution_count": 6,
   "metadata": {},
   "outputs": [
    {
     "data": {
      "text/plain": [
       "2"
      ]
     },
     "execution_count": 6,
     "metadata": {},
     "output_type": "execute_result"
    }
   ],
   "source": [
    "##inspect length of an array  ( number of row )\n",
    "len(arr)"
   ]
  },
  {
   "cell_type": "code",
   "execution_count": 7,
   "metadata": {},
   "outputs": [
    {
     "data": {
      "text/plain": [
       "6"
      ]
     },
     "execution_count": 7,
     "metadata": {},
     "output_type": "execute_result"
    }
   ],
   "source": [
    "## inspect the number of elements in an array\n",
    "arr.size"
   ]
  },
  {
   "cell_type": "code",
   "execution_count": 8,
   "metadata": {},
   "outputs": [
    {
     "data": {
      "text/plain": [
       "8"
      ]
     },
     "execution_count": 8,
     "metadata": {},
     "output_type": "execute_result"
    }
   ],
   "source": [
    "##inspect the number of bytes of each element in an array\n",
    "arr.itemsize"
   ]
  },
  {
   "cell_type": "code",
   "execution_count": 9,
   "metadata": {},
   "outputs": [
    {
     "name": "stdout",
     "output_type": "stream",
     "text": [
      "48\n"
     ]
    }
   ],
   "source": [
    "# arr.nbytes = arr.size * arr.itemsize\n",
    "print(arr.nbytes)"
   ]
  },
  {
   "cell_type": "code",
   "execution_count": 10,
   "metadata": {},
   "outputs": [
    {
     "name": "stdout",
     "output_type": "stream",
     "text": [
      "384\n"
     ]
    }
   ],
   "source": [
    "print((arr.nbytes)* 8 ) # bits"
   ]
  },
  {
   "cell_type": "code",
   "execution_count": 12,
   "metadata": {},
   "outputs": [
    {
     "name": "stdout",
     "output_type": "stream",
     "text": [
      "(2, 2, 2)\n"
     ]
    },
    {
     "data": {
      "text/plain": [
       "3"
      ]
     },
     "execution_count": 12,
     "metadata": {},
     "output_type": "execute_result"
    }
   ],
   "source": [
    "three_D = np.array([ [[2,3],[4,5]] , [[4,3],[2,8]]  ])\n",
    "print(three_D.shape)\n",
    "three_D.ndim\n"
   ]
  },
  {
   "cell_type": "code",
   "execution_count": 14,
   "metadata": {},
   "outputs": [
    {
     "name": "stdout",
     "output_type": "stream",
     "text": [
      "(2, 2, 2, 2)\n"
     ]
    },
    {
     "data": {
      "text/plain": [
       "4"
      ]
     },
     "execution_count": 14,
     "metadata": {},
     "output_type": "execute_result"
    }
   ],
   "source": [
    "four_D = np.array([ [ [ [1,2] , [3,4] ] , [  [5,6],[7,8] ]  ] , [  [ [9,10] , [11, 12] ], [ [13,14] , [15,16]]  ]   ] )\n",
    "print(four_D.shape)\n",
    "four_D.ndim"
   ]
  },
  {
   "cell_type": "markdown",
   "metadata": {},
   "source": [
    "## Sampling Method "
   ]
  },
  {
   "cell_type": "code",
   "execution_count": 16,
   "metadata": {},
   "outputs": [
    {
     "data": {
      "text/plain": [
       "array([0.38990187, 0.1696044 , 0.14209385])"
      ]
     },
     "execution_count": 16,
     "metadata": {},
     "output_type": "execute_result"
    }
   ],
   "source": [
    "## set seed \n",
    "np.random.seed()\n",
    "np.random.rand(3)\n"
   ]
  },
  {
   "cell_type": "code",
   "execution_count": 17,
   "metadata": {},
   "outputs": [
    {
     "data": {
      "text/plain": [
       "array([0.18026969, 0.01947524, 0.46321853, 0.72493393])"
      ]
     },
     "execution_count": 17,
     "metadata": {},
     "output_type": "execute_result"
    }
   ],
   "source": [
    "np.random.seed(11)\n",
    "np.random.rand(4)"
   ]
  },
  {
   "cell_type": "code",
   "execution_count": 18,
   "metadata": {},
   "outputs": [
    {
     "data": {
      "text/plain": [
       "array([0.51729788, 0.9469626 , 0.76545976, 0.28239584, 0.22104536,\n",
       "       0.68622209, 0.1671392 , 0.39244247, 0.61805235, 0.41193009])"
      ]
     },
     "execution_count": 18,
     "metadata": {},
     "output_type": "execute_result"
    }
   ],
   "source": [
    "##  set random state which is independent from the global seed\n",
    "\n",
    "rs = np.random.RandomState(23)\n",
    "rs.rand(10)"
   ]
  },
  {
   "cell_type": "code",
   "execution_count": 19,
   "metadata": {},
   "outputs": [
    {
     "data": {
      "text/plain": [
       "array([0.88594794, 0.07791236, 0.97964616])"
      ]
     },
     "execution_count": 19,
     "metadata": {},
     "output_type": "execute_result"
    }
   ],
   "source": [
    "rs = np.random.RandomState(321)\n",
    "rs.rand(3)"
   ]
  },
  {
   "cell_type": "markdown",
   "metadata": {},
   "source": [
    "### generate a random sample from interval [0, 1) in a given shape"
   ]
  },
  {
   "cell_type": "code",
   "execution_count": 20,
   "metadata": {},
   "outputs": [
    {
     "name": "stdout",
     "output_type": "stream",
     "text": [
      "0.42020360458772743\n"
     ]
    }
   ],
   "source": [
    "# generate a random scalar\n",
    "print(np.random.rand())"
   ]
  },
  {
   "cell_type": "code",
   "execution_count": null,
   "metadata": {},
   "outputs": [
    {
     "name": "stdout",
     "output_type": "stream",
     "text": [
      "[0.4854271  0.01278081 0.48737161]\n"
     ]
    }
   ],
   "source": [
    "# generate a 1D array\n",
    "print(np.random.rand(3))"
   ]
  },
  {
   "cell_type": "code",
   "execution_count": 22,
   "metadata": {},
   "outputs": [
    {
     "name": "stdout",
     "output_type": "stream",
     "text": [
      "[[0.94180665 0.85079509 0.72996447]\n",
      " [0.10873607 0.89390417 0.85715425]\n",
      " [0.16508662 0.63233401 0.02048361]]\n"
     ]
    }
   ],
   "source": [
    "# generate a 2D array\n",
    "print(np.random.rand(3,3))"
   ]
  },
  {
   "cell_type": "markdown",
   "metadata": {},
   "source": [
    "### generate a sample from the standard normal distribution (mean = 0, var = 1)"
   ]
  },
  {
   "cell_type": "code",
   "execution_count": 23,
   "metadata": {},
   "outputs": [
    {
     "name": "stdout",
     "output_type": "stream",
     "text": [
      "[[-0.34842575 -0.72720498  0.47220389]\n",
      " [-0.62373696 -0.51521142  1.05537288]\n",
      " [-0.71179307 -0.33212692  0.23688037]]\n"
     ]
    }
   ],
   "source": [
    "print(np.random.randn(3,3))"
   ]
  },
  {
   "cell_type": "code",
   "execution_count": 24,
   "metadata": {},
   "outputs": [
    {
     "name": "stdout",
     "output_type": "stream",
     "text": [
      "[8 8 1]\n"
     ]
    }
   ],
   "source": [
    "# np.ranodm.randint(low, high, size, dtype)\n",
    "print(np.random.randint(1, 10, 3, 'i8'))"
   ]
  },
  {
   "cell_type": "code",
   "execution_count": 25,
   "metadata": {},
   "outputs": [
    {
     "name": "stdout",
     "output_type": "stream",
     "text": [
      "[0.47979728 0.40167648 0.847979   0.71784918 0.60206405 0.55238382\n",
      " 0.9491024  0.98667333 0.33805405 0.23987468]\n",
      "[0.79643575 0.06368643 0.36461564 0.0700228  0.31936771 0.0703826\n",
      " 0.29026367 0.79010112 0.90540032 0.79262139]\n",
      "[0.56181871 0.61601839 0.36148354 0.1688173  0.43624093 0.73282534\n",
      " 0.06288762 0.02073298 0.77054807 0.29995201]\n",
      "[0.70116428 0.73466772 0.93290463 0.40032843 0.35843793 0.80656679\n",
      " 0.7644911  0.65261474 0.81096657 0.64221486]\n"
     ]
    }
   ],
   "source": [
    "# the following methods are the same as np.random.rand()\n",
    "print(np.random.random_sample(10))\n",
    "print(np.random.random(10))\n",
    "print(np.random.ranf(10))\n",
    "print(np.random.sample(10))"
   ]
  },
  {
   "cell_type": "code",
   "execution_count": 26,
   "metadata": {},
   "outputs": [
    {
     "name": "stdout",
     "output_type": "stream",
     "text": [
      "[2 1 1 2 1 1 1 1 0 0]\n"
     ]
    }
   ],
   "source": [
    "# np.random.choice(iterable_or_int, size, replace=True, p=weights)\n",
    "print(np.random.choice(range(3), 10, replace=True, p=[0.1, 0.8, 0.1]))"
   ]
  },
  {
   "cell_type": "code",
   "execution_count": 27,
   "metadata": {},
   "outputs": [
    {
     "name": "stdout",
     "output_type": "stream",
     "text": [
      "[1 1 0 2 1 1 2 0 1 0]\n"
     ]
    }
   ],
   "source": [
    "print(np.random.choice(3,10))"
   ]
  },
  {
   "cell_type": "code",
   "execution_count": 28,
   "metadata": {},
   "outputs": [
    {
     "name": "stdout",
     "output_type": "stream",
     "text": [
      "[2 1 1 3 3 3 1 1 3 1]\n"
     ]
    }
   ],
   "source": [
    "print (np.random.choice([1,2,3], 10))"
   ]
  },
  {
   "cell_type": "code",
   "execution_count": 29,
   "metadata": {},
   "outputs": [
    {
     "data": {
      "text/plain": [
       "array([0, 1, 2, 3, 4, 5, 6, 7, 8, 9])"
      ]
     },
     "execution_count": 29,
     "metadata": {},
     "output_type": "execute_result"
    }
   ],
   "source": [
    "### shuffle an array in place\n",
    "\n",
    "arr = np.array(range(10))\n",
    "arr"
   ]
  },
  {
   "cell_type": "code",
   "execution_count": 30,
   "metadata": {},
   "outputs": [
    {
     "data": {
      "text/plain": [
       "array([6, 0, 2, 3, 9, 4, 5, 8, 1, 7])"
      ]
     },
     "execution_count": 30,
     "metadata": {},
     "output_type": "execute_result"
    }
   ],
   "source": [
    "np.random.shuffle(arr)\n",
    "arr"
   ]
  },
  {
   "cell_type": "code",
   "execution_count": 31,
   "metadata": {},
   "outputs": [
    {
     "name": "stdout",
     "output_type": "stream",
     "text": [
      "The initial array:  [0 1 2 3 4 5 6 7 8 9]\n",
      "A permutation of the array:  [4 5 6 7 1 0 9 8 3 2]\n"
     ]
    }
   ],
   "source": [
    "# generate a permutation of an array\n",
    "# similar to np.random.shuffle(), but it returns a copy rather than making changes in place\n",
    "arr = np.array(range(10))\n",
    "print('The initial array: ', arr)\n",
    "print('A permutation of the array: ', np.random.permutation(arr))"
   ]
  },
  {
   "cell_type": "markdown",
   "metadata": {},
   "source": [
    "#  Math Functions"
   ]
  },
  {
   "cell_type": "code",
   "execution_count": 32,
   "metadata": {},
   "outputs": [],
   "source": [
    "arr = np.random.rand(5,5)\n"
   ]
  },
  {
   "cell_type": "code",
   "execution_count": 33,
   "metadata": {},
   "outputs": [
    {
     "name": "stdout",
     "output_type": "stream",
     "text": [
      "[[10.21800338 10.84493853 10.30216469 10.43822067 10.09141459]\n",
      " [10.30097917 10.08569481 10.34371331 10.70930102 10.97396826]\n",
      " [10.62522484 10.26930354 10.65670881 10.62699782 10.82565223]\n",
      " [10.53369398 10.91112166 10.41550367 10.28604467 10.51900774]\n",
      " [10.92245024 10.72391126 10.493913   10.49749635 10.6487222 ]]\n",
      "[[-9.78199662 -9.15506147 -9.69783531 -9.56177933 -9.90858541]\n",
      " [-9.69902083 -9.91430519 -9.65628669 -9.29069898 -9.02603174]\n",
      " [-9.37477516 -9.73069646 -9.34329119 -9.37300218 -9.17434777]\n",
      " [-9.46630602 -9.08887834 -9.58449633 -9.71395533 -9.48099226]\n",
      " [-9.07754976 -9.27608874 -9.506087   -9.50250365 -9.3512778 ]]\n",
      "[[2.18003375 8.44938531 3.02164688 4.38220671 0.91414587]\n",
      " [3.0097917  0.85694806 3.43713307 7.09301018 9.73968256]\n",
      " [6.2522484  2.6930354  6.56708806 6.26997819 8.25652229]\n",
      " [5.33693982 9.11121665 4.15503669 2.86044669 5.19007742]\n",
      " [9.22450238 7.23911263 4.93913001 4.97496353 6.48722198]]\n",
      "[[0.02180034 0.08449385 0.03021647 0.04382207 0.00914146]\n",
      " [0.03009792 0.00856948 0.03437133 0.0709301  0.09739683]\n",
      " [0.06252248 0.02693035 0.06567088 0.06269978 0.08256522]\n",
      " [0.0533694  0.09111217 0.04155037 0.02860447 0.05190077]\n",
      " [0.09224502 0.07239113 0.0493913  0.04974964 0.06487222]]\n"
     ]
    }
   ],
   "source": [
    "## element-wise addition, subtraction, multiplication and division\n",
    "\n",
    "print(arr + 10)\n",
    "print(arr - 10)\n",
    "print(arr * 10)\n",
    "print(arr / 10)"
   ]
  },
  {
   "cell_type": "code",
   "execution_count": 34,
   "metadata": {},
   "outputs": [
    {
     "name": "stdout",
     "output_type": "stream",
     "text": [
      "[ 9 11 13]\n",
      "[1 2 3]\n",
      "[1 4 9]\n"
     ]
    }
   ],
   "source": [
    "arr1 = np.array([1,2,3])\n",
    "np.add(arr1, [8,9,10], out=arr1)\n",
    "print(arr1)\n",
    "\n",
    "np.subtract(arr1, [8,9,10], out=arr1)\n",
    "print(arr1)\n",
    "\n",
    "np.multiply(arr1, [1,2,3], out=arr1)\n",
    "print(arr1)\n"
   ]
  },
  {
   "cell_type": "code",
   "execution_count": 35,
   "metadata": {},
   "outputs": [
    {
     "name": "stdout",
     "output_type": "stream",
     "text": [
      "[[1.24359127 2.32783472 1.352784   1.5499469  1.09572318]\n",
      " [1.3511812  1.08947378 1.41017429 2.03257003 2.6484333 ]\n",
      " [1.86866606 1.30905243 1.92843503 1.87198211 2.28336956]\n",
      " [1.70521974 2.48711067 1.51513367 1.33115192 1.68035947]\n",
      " [2.51544629 2.06248437 1.63871599 1.64459862 1.91309471]]\n"
     ]
    }
   ],
   "source": [
    "# element-wise exponentiation\n",
    "print(np.exp(arr))\n"
   ]
  },
  {
   "cell_type": "code",
   "execution_count": null,
   "metadata": {},
   "outputs": [
    {
     "name": "stdout",
     "output_type": "stream",
     "text": [
      "[[-1.52324473 -0.1684914  -1.19678309 -0.82503268 -2.39235022]\n",
      " [-1.20071422 -2.45696306 -1.06794738 -0.34347528 -0.02637657]\n",
      " [-0.46964395 -1.31191613 -0.42051458 -0.46681222 -0.19158162]\n",
      " [-0.62793267 -0.09307884 -0.87826383 -1.25160729 -0.65583648]\n",
      " [-0.08072185 -0.32308646 -0.70539589 -0.69816705 -0.4327507 ]]\n"
     ]
    }
   ],
   "source": [
    "# element-wise logorithm\n",
    "# natural log\n",
    "print(np.log(arr))  \n"
   ]
  },
  {
   "cell_type": "code",
   "execution_count": 38,
   "metadata": {},
   "outputs": [
    {
     "name": "stdout",
     "output_type": "stream",
     "text": [
      "[[-2.19757762 -0.24308171 -1.72659302 -1.19027056 -3.4514318 ]\n",
      " [-1.73226445 -3.54464842 -1.54072239 -0.49553008 -0.03805334]\n",
      " [-0.677553   -1.8926949  -0.60667429 -0.67346767 -0.27639386]\n",
      " [-0.90591535 -0.13428438 -1.26706688 -1.80568764 -0.94617204]\n",
      " [-0.11645701 -0.46611523 -1.01767115 -1.00724215 -0.62432729]]\n"
     ]
    }
   ],
   "source": [
    "# base 2\n",
    "print(np.log2(arr))  \n"
   ]
  },
  {
   "cell_type": "code",
   "execution_count": 39,
   "metadata": {},
   "outputs": [
    {
     "name": "stdout",
     "output_type": "stream",
     "text": [
      "[[-0.66153678 -0.07317488 -0.51975629 -0.35830714 -1.0389845 ]\n",
      " [-0.52146356 -1.0670455  -0.46380365 -0.14916942 -0.0114552 ]\n",
      " [-0.20396378 -0.56975794 -0.18262716 -0.20273397 -0.08320284]\n",
      " [-0.27270769 -0.04042363 -0.38142514 -0.54356614 -0.28482616]\n",
      " [-0.03505705 -0.14031467 -0.30634954 -0.3032101  -0.18794124]]\n"
     ]
    }
   ],
   "source": [
    "# base 10\n",
    "print(np.log10(arr))"
   ]
  },
  {
   "cell_type": "code",
   "execution_count": null,
   "metadata": {},
   "outputs": [
    {
     "name": "stdout",
     "output_type": "stream",
     "text": [
      "[[0.46690832 0.91920538 0.54969509 0.66198238 0.30234845]\n",
      " [0.54861569 0.29273675 0.58627068 0.84220011 0.9868983 ]\n",
      " [0.7907116  0.51894464 0.81037572 0.79183194 0.90865408]\n",
      " [0.73054362 0.95452693 0.64459574 0.53483144 0.72042192]\n",
      " [0.96044273 0.85082975 0.70278944 0.70533421 0.80543293]]\n"
     ]
    }
   ],
   "source": [
    "# element-wise square root\n",
    "print(np.sqrt(arr))\n"
   ]
  },
  {
   "cell_type": "code",
   "execution_count": 41,
   "metadata": {},
   "outputs": [
    {
     "name": "stdout",
     "output_type": "stream",
     "text": [
      "[[0.21628069 0.74793031 0.29758752 0.42432894 0.09128732]\n",
      " [0.2964555  0.08558996 0.33698552 0.65130353 0.82712247]\n",
      " [0.5852796  0.26606014 0.61051352 0.58671626 0.7349902 ]\n",
      " [0.50871708 0.79019166 0.4036508  0.28215983 0.49601879]\n",
      " [0.79708363 0.66232013 0.47407485 0.47722688 0.60416867]]\n"
     ]
    }
   ],
   "source": [
    "# element-wise sine and cosine\n",
    "print(np.sin(arr))"
   ]
  },
  {
   "cell_type": "code",
   "execution_count": 42,
   "metadata": {},
   "outputs": [
    {
     "name": "stdout",
     "output_type": "stream",
     "text": [
      "[[0.97633123 0.66377726 0.95469454 0.90550812 0.9958246 ]\n",
      " [0.95504667 0.99633045 0.94150983 0.75881731 0.56202173]\n",
      " [0.81083155 0.96395643 0.79200584 0.80979258 0.67807773]\n",
      " [0.86093376 0.61285981 0.91491313 0.95936741 0.86831179]\n",
      " [0.60386893 0.74922096 0.88048455 0.87878012 0.79685646]]\n"
     ]
    }
   ],
   "source": [
    "print(np.cos(arr))"
   ]
  },
  {
   "cell_type": "code",
   "execution_count": 43,
   "metadata": {},
   "outputs": [
    {
     "name": "stdout",
     "output_type": "stream",
     "text": [
      "[2.60035161 2.8349698  2.21200347 2.55806053 3.05876501]\n"
     ]
    }
   ],
   "source": [
    "# sum along a specified axis\n",
    "# sum along the row\n",
    "print(np.sum(arr, axis=0)) "
   ]
  },
  {
   "cell_type": "code",
   "execution_count": 44,
   "metadata": {},
   "outputs": [
    {
     "name": "stdout",
     "output_type": "stream",
     "text": [
      "[1.89474185 2.41365656 3.00388723 2.66537173 3.28649305]\n"
     ]
    }
   ],
   "source": [
    "# sum along the column\n",
    "print(np.sum(arr, axis=1))"
   ]
  },
  {
   "cell_type": "code",
   "execution_count": 45,
   "metadata": {},
   "outputs": [
    {
     "name": "stdout",
     "output_type": "stream",
     "text": [
      "[0.21800338 0.08569481 0.30216469 0.28604467 0.09141459]\n"
     ]
    }
   ],
   "source": [
    "## compute the min and max along a specified axis\n",
    "# calculate min along the row\n",
    "print(np.min(arr, axis=0))"
   ]
  },
  {
   "cell_type": "code",
   "execution_count": 46,
   "metadata": {},
   "outputs": [
    {
     "name": "stdout",
     "output_type": "stream",
     "text": [
      "[0.84493853 0.97396826 0.82565223 0.91112166 0.92245024]\n"
     ]
    }
   ],
   "source": [
    "# calculate max along the column\n",
    "print(np.max(arr, axis=1)) "
   ]
  },
  {
   "cell_type": "code",
   "execution_count": 47,
   "metadata": {},
   "outputs": [
    {
     "name": "stdout",
     "output_type": "stream",
     "text": [
      "0.9739682557652591\n",
      "0.08569480601338675\n"
     ]
    }
   ],
   "source": [
    "# if axis not specified, calculate the max/min value of all elements\n",
    "print(np.max(arr))\n",
    "print(np.min(arr))"
   ]
  },
  {
   "cell_type": "code",
   "execution_count": 48,
   "metadata": {},
   "outputs": [
    {
     "name": "stdout",
     "output_type": "stream",
     "text": [
      "[0 1 0 3 0]\n",
      "[4 3 2 1 1]\n"
     ]
    }
   ],
   "source": [
    "## compute the indices of the min and max along a specified axis\n",
    "\n",
    "# along the row\n",
    "print(np.argmin(arr, axis=0))\n",
    "print(np.argmax(arr, axis=0))"
   ]
  },
  {
   "cell_type": "code",
   "execution_count": 49,
   "metadata": {},
   "outputs": [
    {
     "name": "stdout",
     "output_type": "stream",
     "text": [
      "[4 1 1 3 2]\n",
      "[1 4 4 1 0]\n"
     ]
    }
   ],
   "source": [
    "# along the column\n",
    "print(np.argmin(arr, axis=1))\n",
    "print(np.argmax(arr, axis=1))"
   ]
  },
  {
   "cell_type": "code",
   "execution_count": 50,
   "metadata": {},
   "outputs": [
    {
     "name": "stdout",
     "output_type": "stream",
     "text": [
      "6\n",
      "9\n"
     ]
    }
   ],
   "source": [
    "# if axis not specified, return the index of the flattened array\n",
    "print(np.argmin(arr))\n",
    "print(np.argmax(arr))"
   ]
  },
  {
   "cell_type": "code",
   "execution_count": 51,
   "metadata": {},
   "outputs": [
    {
     "name": "stdout",
     "output_type": "stream",
     "text": [
      "[1 4 5 8 9]\n",
      "[0 3 3 7 7]\n"
     ]
    }
   ],
   "source": [
    "#compute element-wise min and max of two arrays\n",
    "\n",
    "arr1 = np.array([1, 3, 5, 7, 9])\n",
    "arr2 = np.array([0, 4, 3, 8, 7])\n",
    "print(np.maximum(arr1, arr2))\n",
    "print(np.minimum(arr1, arr2))"
   ]
  },
  {
   "cell_type": "code",
   "execution_count": 52,
   "metadata": {},
   "outputs": [
    {
     "name": "stdout",
     "output_type": "stream",
     "text": [
      "fractional:  [0.4777116  0.50639471 0.71175204 0.32413719 0.4068543  0.27048261\n",
      " 0.56521106 0.66427211 0.11795484 0.13679153]\n",
      "integral:  [4. 5. 9. 9. 8. 1. 5. 3. 9. 3.]\n"
     ]
    }
   ],
   "source": [
    "#split fractional and integral parts of a floating-point array\n",
    "\n",
    "arr1 = np.random.rand(10) * 10\n",
    "re, intg = np.modf(arr1)\n",
    "print('fractional: ', re)\n",
    "print('integral: ', intg)"
   ]
  },
  {
   "cell_type": "markdown",
   "metadata": {},
   "source": [
    "### compute the mean"
   ]
  },
  {
   "cell_type": "code",
   "execution_count": 53,
   "metadata": {},
   "outputs": [
    {
     "name": "stdout",
     "output_type": "stream",
     "text": [
      "0.5305660169139371\n"
     ]
    }
   ],
   "source": [
    "# compute the overall mean\n",
    "print(np.mean(arr))"
   ]
  },
  {
   "cell_type": "code",
   "execution_count": 54,
   "metadata": {},
   "outputs": [
    {
     "name": "stdout",
     "output_type": "stream",
     "text": [
      "[0.52007032 0.56699396 0.44240069 0.51161211 0.611753  ]\n"
     ]
    }
   ],
   "source": [
    "# compute the mean along the row\n",
    "print(np.mean(arr, axis=0))"
   ]
  },
  {
   "cell_type": "code",
   "execution_count": 55,
   "metadata": {},
   "outputs": [
    {
     "name": "stdout",
     "output_type": "stream",
     "text": [
      "[0.37894837 0.48273131 0.60077745 0.53307435 0.65729861]\n"
     ]
    }
   ],
   "source": [
    "# compute the mean along the column\n",
    "print(np.mean(arr, axis=1))"
   ]
  },
  {
   "cell_type": "markdown",
   "metadata": {},
   "source": [
    "### compute the median\n"
   ]
  },
  {
   "cell_type": "code",
   "execution_count": 56,
   "metadata": {},
   "outputs": [
    {
     "name": "stdout",
     "output_type": "stream",
     "text": [
      "0.5190077415876589\n"
     ]
    }
   ],
   "source": [
    "\n",
    "# compute the overall median\n",
    "print(np.median(arr))\n"
   ]
  },
  {
   "cell_type": "code",
   "execution_count": 57,
   "metadata": {},
   "outputs": [
    {
     "name": "stdout",
     "output_type": "stream",
     "text": [
      "[0.53369398 0.72391126 0.41550367 0.49749635 0.6487222 ]\n"
     ]
    }
   ],
   "source": [
    "# compute the median along the row\n",
    "print(np.median(arr, axis=0)) "
   ]
  },
  {
   "cell_type": "code",
   "execution_count": 58,
   "metadata": {},
   "outputs": [
    {
     "name": "stdout",
     "output_type": "stream",
     "text": [
      "[0.30216469 0.34371331 0.62699782 0.51900774 0.6487222 ]\n"
     ]
    }
   ],
   "source": [
    "# compute the median along the column\n",
    "print(np.median(arr, axis=1))"
   ]
  },
  {
   "cell_type": "markdown",
   "metadata": {},
   "source": [
    "### compute the percentile"
   ]
  },
  {
   "cell_type": "code",
   "execution_count": 59,
   "metadata": {},
   "outputs": [
    {
     "name": "stdout",
     "output_type": "stream",
     "text": [
      "[0.05316843 0.65509007 0.95625348]\n"
     ]
    }
   ],
   "source": [
    "arr1 = np.random.rand(100)\n",
    "# compute 5, 65, and 95 percentiles of the array\n",
    "print(np.percentile(arr1, [5, 65, 95]))"
   ]
  },
  {
   "cell_type": "markdown",
   "metadata": {},
   "source": [
    "### compute the standard deviation & variance"
   ]
  },
  {
   "cell_type": "code",
   "execution_count": 60,
   "metadata": {},
   "outputs": [
    {
     "name": "stdout",
     "output_type": "stream",
     "text": [
      "0.2513177588973816\n"
     ]
    }
   ],
   "source": [
    "# compute the overall standard deviation\n",
    "print(np.std(arr))"
   ]
  },
  {
   "cell_type": "code",
   "execution_count": 61,
   "metadata": {},
   "outputs": [
    {
     "name": "stdout",
     "output_type": "stream",
     "text": [
      "[0.24995922 0.3288065  0.12546734 0.14755405 0.30254694]\n"
     ]
    }
   ],
   "source": [
    "# compute the standard deviation along the row\n",
    "print(np.std(arr, axis=0))"
   ]
  },
  {
   "cell_type": "code",
   "execution_count": 62,
   "metadata": {},
   "outputs": [
    {
     "name": "stdout",
     "output_type": "stream",
     "text": [
      "0.06316061593720244\n"
     ]
    }
   ],
   "source": [
    "# compute the overall variance\n",
    "print(np.var(arr))"
   ]
  },
  {
   "cell_type": "code",
   "execution_count": 63,
   "metadata": {},
   "outputs": [
    {
     "name": "stdout",
     "output_type": "stream",
     "text": [
      "[0.06247961 0.10811371 0.01574205 0.0217722  0.09153465]\n"
     ]
    }
   ],
   "source": [
    "# compute the variance along the row\n",
    "print(np.var(arr, axis=0))"
   ]
  },
  {
   "cell_type": "code",
   "execution_count": 64,
   "metadata": {},
   "outputs": [
    {
     "name": "stdout",
     "output_type": "stream",
     "text": [
      "[0.06702695 0.10052908 0.03297142 0.04359291 0.02540956]\n"
     ]
    }
   ],
   "source": [
    "# compute the variance along the column\n",
    "print(np.var(arr, axis=1))"
   ]
  },
  {
   "cell_type": "markdown",
   "metadata": {},
   "source": [
    "### compute the covariance & correlation"
   ]
  },
  {
   "cell_type": "code",
   "execution_count": 65,
   "metadata": {},
   "outputs": [],
   "source": [
    "arr = np.random.rand(5,8)"
   ]
  },
  {
   "cell_type": "code",
   "execution_count": 66,
   "metadata": {},
   "outputs": [
    {
     "name": "stdout",
     "output_type": "stream",
     "text": [
      "[[ 0.05746117 -0.01351749 -0.01513195  0.031365   -0.00441848]\n",
      " [-0.01351749  0.01508505  0.01488076  0.00678462  0.00737391]\n",
      " [-0.01513195  0.01488076  0.07255201  0.01402416 -0.02574586]\n",
      " [ 0.031365    0.00678462  0.01402416  0.07970201  0.03369905]\n",
      " [-0.00441848  0.00737391 -0.02574586  0.03369905  0.06463992]]\n"
     ]
    }
   ],
   "source": [
    "print(np.cov(arr))"
   ]
  },
  {
   "cell_type": "code",
   "execution_count": 67,
   "metadata": {},
   "outputs": [
    {
     "name": "stdout",
     "output_type": "stream",
     "text": [
      "[[1.         0.52402852]\n",
      " [0.52402852 1.        ]]\n"
     ]
    }
   ],
   "source": [
    "print(np.corrcoef(arr[:,0], arr[:,1]))"
   ]
  },
  {
   "cell_type": "markdown",
   "metadata": {},
   "source": [
    "### compute cumulative sum & product"
   ]
  },
  {
   "cell_type": "code",
   "execution_count": 68,
   "metadata": {},
   "outputs": [
    {
     "name": "stdout",
     "output_type": "stream",
     "text": [
      "[[0.88300677 0.94070899 0.7588901  0.43399206 0.93750418 0.30066107\n",
      "  0.59321586 0.58743422]\n",
      " [1.32376075 1.19107721 1.08937221 1.07691133 1.22152577 0.64685679\n",
      "  0.94731849 0.91224009]\n",
      " [2.15229093 1.73686254 1.10774211 1.81848996 1.72369555 1.42575002\n",
      "  1.44188213 1.22307785]\n",
      " [2.99157934 1.91020756 1.38601868 2.30263785 2.58356674 1.54096204\n",
      "  1.7805706  1.75531803]\n",
      " [3.66992889 2.01540163 2.14130231 2.85955894 3.10071114 1.9218325\n",
      "  2.09521772 2.64582265]]\n"
     ]
    }
   ],
   "source": [
    "# calculate the cumulative sums along the row\n",
    "print(np.cumsum(arr, axis=0)) "
   ]
  },
  {
   "cell_type": "code",
   "execution_count": 69,
   "metadata": {},
   "outputs": [
    {
     "name": "stdout",
     "output_type": "stream",
     "text": [
      "[[0.88300677 0.94070899 0.7588901  0.43399206 0.93750418 0.30066107\n",
      "  0.59321586 0.58743422]\n",
      " [1.32376075 1.19107721 1.08937221 1.07691133 1.22152577 0.64685679\n",
      "  0.94731849 0.91224009]\n",
      " [2.15229093 1.73686254 1.10774211 1.81848996 1.72369555 1.42575002\n",
      "  1.44188213 1.22307785]\n",
      " [2.99157934 1.91020756 1.38601868 2.30263785 2.58356674 1.54096204\n",
      "  1.7805706  1.75531803]\n",
      " [3.66992889 2.01540163 2.14130231 2.85955894 3.10071114 1.9218325\n",
      "  2.09521772 2.64582265]]\n"
     ]
    }
   ],
   "source": [
    "# calculate the cumulative sums along the row\n",
    "print(np.cumsum(arr, axis=0))   "
   ]
  },
  {
   "cell_type": "code",
   "execution_count": 70,
   "metadata": {},
   "outputs": [
    {
     "name": "stdout",
     "output_type": "stream",
     "text": [
      "[[0.88300677 0.94070899 0.7588901  0.43399206 0.93750418 0.30066107\n",
      "  0.59321586 0.58743422]\n",
      " [0.38918875 0.23552363 0.2507996  0.27902186 0.26627143 0.10408758\n",
      "  0.2100593  0.19080208]\n",
      " [0.32245462 0.12854534 0.00460716 0.20691665 0.13371346 0.08107311\n",
      "  0.10388769 0.05930849]\n",
      " [0.27063243 0.0222827  0.00128207 0.10017826 0.11497636 0.0093406\n",
      "  0.03518556 0.03156636]\n",
      " [0.18358339 0.00234401 0.00096832 0.05579139 0.05945938 0.00355756\n",
      "  0.01107104 0.02810999]]\n"
     ]
    }
   ],
   "source": [
    "# calculate the cumulative product along the row\n",
    "print(np.cumprod(arr, axis=0)) "
   ]
  },
  {
   "cell_type": "code",
   "execution_count": 71,
   "metadata": {},
   "outputs": [
    {
     "name": "stdout",
     "output_type": "stream",
     "text": [
      "[[8.83006768e-01 8.30652407e-01 6.30373891e-01 2.73577265e-01\n",
      "  2.56479831e-01 7.71135015e-02 4.57449521e-02 2.68721504e-02]\n",
      " [4.40753984e-01 1.10350788e-01 3.64689611e-02 2.34465979e-02\n",
      "  6.65933994e-03 2.30543495e-03 8.16360583e-04 2.65158710e-04]\n",
      " [8.28530173e-01 4.52199618e-01 8.30685925e-03 6.16018931e-03\n",
      "  3.09346093e-03 2.40947578e-03 1.19163910e-03 3.70406420e-04]\n",
      " [8.39288411e-01 1.45486469e-01 4.04854754e-02 1.96009572e-02\n",
      "  1.68542983e-02 1.94181779e-03 6.57671296e-04 3.50039088e-04]\n",
      " [6.78349559e-01 7.13583505e-02 5.38957942e-02 3.00157047e-02\n",
      "  1.55224536e-02 5.91204407e-03 1.86020764e-03 1.65652350e-03]]\n"
     ]
    }
   ],
   "source": [
    "# calculate the cumulative product along the column\n",
    "print(np.cumprod(arr, axis=1))"
   ]
  },
  {
   "cell_type": "markdown",
   "metadata": {},
   "source": [
    "### element-wise comparison"
   ]
  },
  {
   "cell_type": "code",
   "execution_count": 72,
   "metadata": {},
   "outputs": [],
   "source": [
    "arr1 = np.array([1,2,3,4,5])\n",
    "arr2 = np.array([5,4,3,2,1])"
   ]
  },
  {
   "cell_type": "code",
   "execution_count": 73,
   "metadata": {},
   "outputs": [
    {
     "name": "stdout",
     "output_type": "stream",
     "text": [
      "[False False  True False False]\n",
      "[ True  True False False False]\n"
     ]
    }
   ],
   "source": [
    "# return an array of bools\n",
    "print(arr1 == arr2)    \n",
    "print(arr1 < 3)"
   ]
  }
 ],
 "metadata": {
  "kernelspec": {
   "display_name": "Python 3",
   "language": "python",
   "name": "python3"
  },
  "language_info": {
   "codemirror_mode": {
    "name": "ipython",
    "version": 3
   },
   "file_extension": ".py",
   "mimetype": "text/x-python",
   "name": "python",
   "nbconvert_exporter": "python",
   "pygments_lexer": "ipython3",
   "version": "3.9.0"
  }
 },
 "nbformat": 4,
 "nbformat_minor": 2
}
